{
 "cells": [
  {
   "cell_type": "markdown",
   "metadata": {},
   "source": [
    "Square-root version of parsmooth; but currently running the non-squareroot filtering."
   ]
  },
  {
   "cell_type": "code",
   "execution_count": 1,
   "metadata": {},
   "outputs": [],
   "source": [
    "%load_ext autoreload\n",
    "%autoreload 2"
   ]
  },
  {
   "cell_type": "markdown",
   "metadata": {
    "pycharm": {
     "name": "#%% md\n"
    }
   },
   "source": [
    "\n",
    "### Imports"
   ]
  },
  {
   "cell_type": "code",
   "execution_count": 2,
   "metadata": {
    "pycharm": {
     "name": "#%%\n"
    }
   },
   "outputs": [],
   "source": [
    "import numpy as np\n",
    "from jax.config import config\n",
    "\n",
    "#config.update(\"jax_enable_x64\", True)\n",
    "\n",
    "import parsmooth\n",
    "from parsmooth import FunctionalModel, MVNSqrt, MVNStandard\n",
    "from parsmooth.linearization import extended, cubature\n",
    "from parsmooth.methods import iterated_smoothing, filter_smoother\n",
    "from parsmooth.sequential._filtering import _standard_predict, _standard_update, _sqrt_predict, _sqrt_update\n",
    "from parsmooth._utils import tria, qr as my_qr\n",
    "from jax.scipy.linalg import cho_solve, solve_triangular"
   ]
  },
  {
   "cell_type": "code",
   "execution_count": 3,
   "metadata": {
    "pycharm": {
     "name": "#%%\n"
    }
   },
   "outputs": [],
   "source": [
    "from functools import partial\n",
    "\n",
    "import jax\n",
    "import jax.numpy as jnp\n",
    "import matplotlib.pyplot as plt\n",
    "\n",
    "import tornadox"
   ]
  },
  {
   "cell_type": "markdown",
   "metadata": {
    "pycharm": {
     "name": "#%% md\n"
    }
   },
   "source": [
    "## Initial Value Problem"
   ]
  },
  {
   "cell_type": "code",
   "execution_count": 12,
   "metadata": {},
   "outputs": [],
   "source": [
    "ivp = tornadox.ivp.vanderpol_julia(stiffness_constant=1e2)\n",
    "ylims = (-3, 3)\n",
    "f = ivp.f\n",
    "y0 = ivp.y0\n",
    "t0, tmax = ivp.t0, ivp.tmax"
   ]
  },
  {
   "cell_type": "markdown",
   "metadata": {
    "pycharm": {
     "name": "#%% md\n"
    }
   },
   "source": [
    "## Definig the ODE Solver"
   ]
  },
  {
   "cell_type": "code",
   "execution_count": 13,
   "metadata": {
    "pycharm": {
     "name": "#%%\n"
    }
   },
   "outputs": [],
   "source": [
    "# Fixed-step solver with step-size\n",
    "dt = 1e-3\n",
    "\n",
    "# Solver order\n",
    "order = 2"
   ]
  },
  {
   "cell_type": "markdown",
   "metadata": {
    "pycharm": {
     "name": "#%% md\n"
    }
   },
   "source": [
    "### 1. Prior\n",
    "Build the transition matrices (using `tornadox` because I'm lazy)"
   ]
  },
  {
   "cell_type": "code",
   "execution_count": 14,
   "metadata": {
    "pycharm": {
     "name": "#%%\n"
    }
   },
   "outputs": [],
   "source": [
    "d, q = len(y0), order\n",
    "D = d * (q+1)\n",
    "diffusion = 1\n",
    "\n",
    "iwp = tornadox.iwp.IntegratedWienerTransition(\n",
    "    num_derivatives=q, wiener_process_dimension=d)\n",
    "P, PI = iwp.nordsieck_preconditioner(dt)\n",
    "E0 = iwp.projection_matrix(0) @ P\n",
    "E1 = iwp.projection_matrix(1) @ P\n",
    "A, QS = iwp.preconditioned_discretize\n",
    "Q = (QS @ QS.T)\n",
    "\n",
    "@jax.jit\n",
    "def tf(x, A):\n",
    "    return A @ x\n",
    "\n",
    "transition_function = jax.jit(partial(tf, A=A))\n",
    "\n",
    "b = jnp.zeros(D)\n",
    "transition_model = FunctionalModel(transition_function, MVNSqrt(b, QS))\n",
    "#transition_model = FunctionalModel(transition_function, MVNStandard(b, Q))"
   ]
  },
  {
   "cell_type": "markdown",
   "metadata": {
    "pycharm": {
     "name": "#%% md\n"
    }
   },
   "source": [
    "### 2. Observation Model"
   ]
  },
  {
   "cell_type": "code",
   "execution_count": 15,
   "metadata": {
    "pycharm": {
     "name": "#%%\n"
    },
    "scrolled": false
   },
   "outputs": [],
   "source": [
    "def of(x, f, E0, E1):\n",
    "    return E1@x - f(None, E0@x)\n",
    "\n",
    "observation_function = jax.jit(partial(of, f=f, E0=E0, E1=E1))\n",
    "\n",
    "c = jnp.zeros(d)\n",
    "RS = 0 * jnp.eye(d)\n",
    "observation_model = FunctionalModel(observation_function, MVNSqrt(c, RS))\n",
    "#observation_model = FunctionalModel(observation_function, MVNStandard(c, RS))"
   ]
  },
  {
   "cell_type": "markdown",
   "metadata": {
    "pycharm": {
     "name": "#%% md\n"
    }
   },
   "source": [
    "### 3. Data\n",
    "We want the ODE to be satisfied == we want the difference to be zero == zero data:"
   ]
  },
  {
   "cell_type": "code",
   "execution_count": 16,
   "metadata": {
    "pycharm": {
     "name": "#%%\n"
    }
   },
   "outputs": [
    {
     "name": "stdout",
     "output_type": "stream",
     "text": [
      "(6300, 2)\n"
     ]
    }
   ],
   "source": [
    "ts = jnp.arange(t0, tmax+dt, dt)\n",
    "data = jnp.zeros((len(ts)-1, d))\n",
    "print(data.shape)"
   ]
  },
  {
   "cell_type": "markdown",
   "metadata": {
    "pycharm": {
     "name": "#%% md\n"
    }
   },
   "source": [
    "## 4. Initial state\n",
    "Again computed with `tornadox`:"
   ]
  },
  {
   "cell_type": "code",
   "execution_count": 17,
   "metadata": {
    "pycharm": {
     "name": "#%%\n"
    }
   },
   "outputs": [],
   "source": [
    "m0, P0 = tornadox.init.TaylorMode()(\n",
    "    f=f, df=None, y0=y0, t0=0, num_derivatives=q)\n",
    "m0, P0 = jnp.concatenate(m0.T), jnp.kron(jnp.eye(d), P0)\n",
    "m0, P0 = PI @ m0, PI @ P0 @ PI\n",
    "x0 = MVNSqrt(m0, P0)\n",
    "#x0 = MVNStandard(m0, P0)"
   ]
  },
  {
   "cell_type": "code",
   "execution_count": 18,
   "metadata": {
    "pycharm": {
     "name": "#%%\n"
    }
   },
   "outputs": [
    {
     "data": {
      "text/plain": [
       "DeviceArray([0.00000000e+00, 2.84217094e-14], dtype=float64)"
      ]
     },
     "execution_count": 18,
     "metadata": {},
     "output_type": "execute_result"
    }
   ],
   "source": [
    "observation_model.function(m0)"
   ]
  },
  {
   "cell_type": "markdown",
   "metadata": {
    "pycharm": {
     "name": "#%% md\n"
    }
   },
   "source": [
    "## Solve the ODE with `parsmooth`"
   ]
  },
  {
   "cell_type": "code",
   "execution_count": 19,
   "metadata": {},
   "outputs": [
    {
     "data": {
      "text/plain": [
       "(-3.0, 3.0)"
      ]
     },
     "execution_count": 19,
     "metadata": {},
     "output_type": "execute_result"
    },
    {
     "data": {
      "image/png": "[encoded data removed]",
      "text/plain": [
       "<Figure size 432x288 with 1 Axes>"
      ]
     },
     "metadata": {
      "needs_background": "light"
     },
     "output_type": "display_data"
    }
   ],
   "source": [
    "ekf_res = parsmooth.sequential._filtering.filtering(\n",
    "    data, \n",
    "    x0, \n",
    "    transition_model, \n",
    "    observation_model, \n",
    "    extended,                               \n",
    "    None,\n",
    ")\n",
    "plt.plot(ts, jnp.dot(E0, ekf_res.mean.T).T, marker=\"o\")\n",
    "plt.ylim(ylims)"
   ]
  },
  {
   "cell_type": "code",
   "execution_count": null,
   "metadata": {},
   "outputs": [],
   "source": []
  },
  {
   "cell_type": "code",
   "execution_count": null,
   "metadata": {},
   "outputs": [],
   "source": []
  }
 ],
 "metadata": {
  "kernelspec": {
   "display_name": "Python 3",
   "language": "python",
   "name": "python3"
  },
  "language_info": {
   "codemirror_mode": {
    "name": "ipython",
    "version": 3
   },
   "file_extension": ".py",
   "mimetype": "text/x-python",
   "name": "python",
   "nbconvert_exporter": "python",
   "pygments_lexer": "ipython3",
   "version": "3.8.3"
  }
 },
 "nbformat": 4,
 "nbformat_minor": 4
}
