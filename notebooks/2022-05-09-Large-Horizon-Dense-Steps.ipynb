{
 "cells": [
  {
   "cell_type": "code",
   "execution_count": 1,
   "id": "1a9c539e",
   "metadata": {},
   "outputs": [],
   "source": [
    "%load_ext autoreload\n",
    "%autoreload 2"
   ]
  },
  {
   "cell_type": "code",
   "execution_count": 2,
   "id": "41a9818a",
   "metadata": {},
   "outputs": [],
   "source": [
    "import jax\n",
    "import jax.numpy as jnp\n",
    "from jax.scipy.linalg import solve_triangular\n",
    "\n",
    "import tornadox\n",
    "import matplotlib.pyplot as plt\n",
    "from tqdm.notebook import trange\n",
    "\n",
    "import pof\n",
    "from pof.main import (\n",
    "    make_continuous_models,\n",
    "    discretize_transitions,\n",
    "    get_constant_initial_trajectory,\n",
    "    linearize_observation_model,\n",
    "    taylor_mode_init,\n",
    ")\n",
    "from pof.ieks import filtsmooth, smoothing\n",
    "from pof.solve import solve_diffrax\n",
    "from pof.utils import tria"
   ]
  },
  {
   "cell_type": "markdown",
   "id": "82510314",
   "metadata": {},
   "source": [
    "First define the IVP and compute a reference solution with diffrax"
   ]
  },
  {
   "cell_type": "code",
   "execution_count": 16,
   "id": "862e33eb",
   "metadata": {},
   "outputs": [
    {
     "data": {
      "text/plain": [
       "[<matplotlib.lines.Line2D at 0x7fc959f8b4f0>,\n",
       " <matplotlib.lines.Line2D at 0x7fc95692a760>]"
      ]
     },
     "execution_count": 16,
     "metadata": {},
     "output_type": "execute_result"
    },
    {
     "data": {
      "image/png": "[encoded data removed]",
      "text/plain": [
       "<Figure size 432x288 with 1 Axes>"
      ]
     },
     "metadata": {
      "needs_background": "light"
     },
     "output_type": "display_data"
    }
   ],
   "source": [
    "ivp = tornadox.ivp.vanderpol_julia(stiffness_constant=1e0, tmax=1000)\n",
    "ts_true, ys_true, sol_true = solve_diffrax(ivp, rtol=1e-10, atol=1e-10)\n",
    "plt.plot(ts_true, ys_true)"
   ]
  },
  {
   "cell_type": "markdown",
   "id": "8ed49516",
   "metadata": {},
   "source": [
    "We now want to solve it with a time-parallel IEKS."
   ]
  },
  {
   "cell_type": "markdown",
   "id": "9d6d1fef",
   "metadata": {},
   "source": [
    "# Solving IVPs with the IEKS\n",
    "We already did this in previous notebooks, but now the structure is a bit different: first create a continuous model, then discretize it, and then run a linear filter/smoother on that."
   ]
  },
  {
   "cell_type": "code",
   "execution_count": 17,
   "id": "9e3914ac",
   "metadata": {},
   "outputs": [],
   "source": [
    "order = 5\n",
    "dt = 1e-2"
   ]
  },
  {
   "cell_type": "code",
   "execution_count": 18,
   "id": "f844416c",
   "metadata": {},
   "outputs": [],
   "source": [
    "# define the time grid\n",
    "ts = jnp.arange(0, ivp.tmax + dt, dt)\n",
    "# make a constant initial trajectory from y0\n",
    "traj = get_constant_initial_trajectory(ivp.y0, order, len(ts))\n",
    "\n",
    "# make the continuous transition and observation models\n",
    "iwp, om = make_continuous_models(ivp, order)\n",
    "E0 = pof.transitions.projection_matrix(iwp, 0)\n",
    "\n",
    "# make the discrete transition and observation model\n",
    "dtm = discretize_transitions(iwp, ts)\n",
    "lom = jax.jit(linearize_observation_model, static_argnums=0)\n",
    "dom = lom(om, traj[1:])\n",
    "\n",
    "# for the initial guess, use Taylor-mode autodiff as usual via tornadox\n",
    "x0 = taylor_mode_init(ivp, order)"
   ]
  },
  {
   "cell_type": "code",
   "execution_count": 19,
   "id": "17a8ed5f",
   "metadata": {},
   "outputs": [
    {
     "name": "stdout",
     "output_type": "stream",
     "text": [
      "CPU times: user 170 µs, sys: 20 µs, total: 190 µs\n",
      "Wall time: 199 µs\n"
     ]
    }
   ],
   "source": [
    "%%time\n",
    "fs = jax.jit(filtsmooth)"
   ]
  },
  {
   "cell_type": "code",
   "execution_count": 20,
   "id": "3cde67bd",
   "metadata": {},
   "outputs": [
    {
     "name": "stdout",
     "output_type": "stream",
     "text": [
      "CPU times: user 4.89 s, sys: 2.24 s, total: 7.13 s\n",
      "Wall time: 7.12 s\n"
     ]
    },
    {
     "data": {
      "text/plain": [
       "[<matplotlib.lines.Line2D at 0x7fc920289430>,\n",
       " <matplotlib.lines.Line2D at 0x7fc956e38280>]"
      ]
     },
     "execution_count": 20,
     "metadata": {},
     "output_type": "execute_result"
    },
    {
     "data": {
      "image/png": "[encoded data removed]",
      "text/plain": [
       "<Figure size 432x288 with 1 Axes>"
      ]
     },
     "metadata": {
      "needs_background": "light"
     },
     "output_type": "display_data"
    }
   ],
   "source": [
    "%%time\n",
    "out = fs(x0, dtm, dom)\n",
    "ys = jnp.dot(E0, out.mean.T).T\n",
    "plt.plot(ts, ys, marker=\".\")"
   ]
  },
  {
   "cell_type": "code",
   "execution_count": 22,
   "id": "00eeddfe",
   "metadata": {},
   "outputs": [
    {
     "data": {
      "application/vnd.jupyter.widget-view+json": {
       "model_id": "5452dbecf1b1454da9b4afeaf910dce5",
       "version_major": 2,
       "version_minor": 0
      },
      "text/plain": [
       "  0%|          | 0/10 [00:00<?, ?it/s]"
      ]
     },
     "metadata": {},
     "output_type": "display_data"
    },
    {
     "data": {
      "text/plain": [
       "[<matplotlib.lines.Line2D at 0x7fc9460009a0>,\n",
       " <matplotlib.lines.Line2D at 0x7fc920257580>]"
      ]
     },
     "execution_count": 22,
     "metadata": {},
     "output_type": "execute_result"
    },
    {
     "data": {
      "image/png": "[encoded data removed]",
      "text/plain": [
       "<Figure size 432x288 with 1 Axes>"
      ]
     },
     "metadata": {
      "needs_background": "light"
     },
     "output_type": "display_data"
    }
   ],
   "source": [
    "ITERS = 100\n",
    "for i in trange(ITERS):\n",
    "    dom = lom(om, out.mean[1:])\n",
    "    out = fs(x0, dtm, dom)\n",
    "ys = jnp.dot(E0, out.mean.T).T\n",
    "plt.plot(ts, ys, marker=\".\")"
   ]
  },
  {
   "cell_type": "code",
   "execution_count": 23,
   "id": "8843ce93",
   "metadata": {},
   "outputs": [
    {
     "data": {
      "application/vnd.jupyter.widget-view+json": {
       "model_id": "0ed5a95a145446f4bc88a319607bc10c",
       "version_major": 2,
       "version_minor": 0
      },
      "text/plain": [
       "  0%|          | 0/100 [00:00<?, ?it/s]"
      ]
     },
     "metadata": {},
     "output_type": "display_data"
    },
    {
     "data": {
      "text/plain": [
       "[<matplotlib.lines.Line2D at 0x7fc9525ad610>,\n",
       " <matplotlib.lines.Line2D at 0x7fc9438a82b0>]"
      ]
     },
     "execution_count": 23,
     "metadata": {},
     "output_type": "execute_result"
    },
    {
     "data": {
      "image/png": "[encoded data removed]",
      "text/plain": [
       "<Figure size 432x288 with 1 Axes>"
      ]
     },
     "metadata": {
      "needs_background": "light"
     },
     "output_type": "display_data"
    }
   ],
   "source": [
    "ITERS = 100\n",
    "for i in trange(ITERS):\n",
    "    dom = lom(om, out.mean[1:])\n",
    "    out = fs(x0, dtm, dom)\n",
    "ys = jnp.dot(E0, out.mean.T).T\n",
    "plt.plot(ts, ys, marker=\".\")"
   ]
  },
  {
   "cell_type": "code",
   "execution_count": null,
   "id": "3830ed68",
   "metadata": {},
   "outputs": [],
   "source": [
    "_ts, _ys, _ = solve_diffrax(ivp, dt=dt)\n",
    "\n",
    "err_final_dp5 = ys_true[-1] - _ys[-1]\n",
    "err_final_ieks = ys_true[-1] - (E0 @ out.mean[-1])\n",
    "(err_final_dp5, err_final_ieks)"
   ]
  }
 ],
 "metadata": {
  "kernelspec": {
   "display_name": "Python 3 (ipykernel)",
   "language": "python",
   "name": "python3"
  },
  "language_info": {
   "codemirror_mode": {
    "name": "ipython",
    "version": 3
   },
   "file_extension": ".py",
   "mimetype": "text/x-python",
   "name": "python",
   "nbconvert_exporter": "python",
   "pygments_lexer": "ipython3",
   "version": "3.8.13"
  }
 },
 "nbformat": 4,
 "nbformat_minor": 5
}
