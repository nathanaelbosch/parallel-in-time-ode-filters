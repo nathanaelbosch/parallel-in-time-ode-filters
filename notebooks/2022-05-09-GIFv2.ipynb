{
 "cells": [
  {
   "cell_type": "code",
   "execution_count": 1,
   "id": "1a9c539e",
   "metadata": {},
   "outputs": [],
   "source": [
    "%load_ext autoreload\n",
    "%autoreload 2"
   ]
  },
  {
   "cell_type": "code",
   "execution_count": 2,
   "id": "41a9818a",
   "metadata": {},
   "outputs": [],
   "source": [
    "import jax\n",
    "import jax.numpy as jnp\n",
    "from jax.scipy.linalg import solve_triangular\n",
    "\n",
    "import tornadox\n",
    "import matplotlib.pyplot as plt\n",
    "from tqdm.notebook import trange\n",
    "\n",
    "import pof\n",
    "from pof.main import (\n",
    "    make_continuous_models,\n",
    "    discretize_transitions,\n",
    "    get_constant_initial_trajectory,\n",
    "    linearize_observation_model,\n",
    "    get_x0,\n",
    ")\n",
    "from pof.ieks import filtsmooth, smoothing\n",
    "from pof.solve import solve_diffrax\n",
    "from pof.utils import tria"
   ]
  },
  {
   "cell_type": "code",
   "execution_count": 3,
   "id": "9e3914ac",
   "metadata": {},
   "outputs": [],
   "source": [
    "order = 3\n",
    "dt = 1e-4"
   ]
  },
  {
   "cell_type": "markdown",
   "id": "82510314",
   "metadata": {},
   "source": [
    "First define the IVP and compute a reference solution with diffrax"
   ]
  },
  {
   "cell_type": "code",
   "execution_count": 4,
   "id": "862e33eb",
   "metadata": {},
   "outputs": [
    {
     "data": {
      "text/plain": [
       "(-3.0, 3.0)"
      ]
     },
     "execution_count": 4,
     "metadata": {},
     "output_type": "execute_result"
    },
    {
     "data": {
      "image/png": "[encoded data removed]",
      "text/plain": [
       "<Figure size 432x288 with 1 Axes>"
      ]
     },
     "metadata": {
      "needs_background": "light"
     },
     "output_type": "display_data"
    }
   ],
   "source": [
    "ivp = tornadox.ivp.vanderpol_julia(stiffness_constant=1e3, tmax=2)\n",
    "ylims = (-3, 3)\n",
    "\n",
    "#ts_true, ys_true, sol_true = solve_diffrax(ivp, rtol=1e-10, atol=1e-10)\n",
    "ts_true, ys_true, sol_true = solve_diffrax(ivp, dt=dt)\n",
    "plt.plot(ts_true, ys_true)\n",
    "plt.ylim(*ylims)"
   ]
  },
  {
   "cell_type": "markdown",
   "id": "8ed49516",
   "metadata": {},
   "source": [
    "We now want to solve it with a time-parallel IEKS."
   ]
  },
  {
   "cell_type": "markdown",
   "id": "9d6d1fef",
   "metadata": {},
   "source": [
    "# Solving IVPs with the IEKS\n",
    "We already did this in previous notebooks, but now the structure is a bit different: first create a continuous model, then discretize it, and then run a linear filter/smoother on that."
   ]
  },
  {
   "cell_type": "code",
   "execution_count": 5,
   "id": "f844416c",
   "metadata": {},
   "outputs": [],
   "source": [
    "# define the time grid\n",
    "ts = jnp.arange(0, ivp.tmax + dt, dt)\n",
    "# make a constant initial trajectory from y0\n",
    "traj = get_constant_initial_trajectory(ivp.y0, order, len(ts))\n",
    "\n",
    "# make the continuous transition and observation models\n",
    "iwp, om = make_continuous_models(ivp, order)\n",
    "E0 = pof.transitions.projection_matrix(iwp, 0)\n",
    "\n",
    "# make the discrete transition and observation model\n",
    "dtm = discretize_transitions(iwp, ts)\n",
    "lom = jax.jit(linearize_observation_model, static_argnums=0)\n",
    "dom = lom(om, traj[1:])\n",
    "\n",
    "# for the initial guess, use Taylor-mode autodiff as usual via tornadox\n",
    "x0 = get_x0(ivp, order)"
   ]
  },
  {
   "cell_type": "code",
   "execution_count": 6,
   "id": "17a8ed5f",
   "metadata": {},
   "outputs": [
    {
     "name": "stdout",
     "output_type": "stream",
     "text": [
      "CPU times: user 162 µs, sys: 0 ns, total: 162 µs\n",
      "Wall time: 170 µs\n"
     ]
    }
   ],
   "source": [
    "%%time\n",
    "fs = jax.jit(filtsmooth)"
   ]
  },
  {
   "cell_type": "code",
   "execution_count": 7,
   "id": "3cde67bd",
   "metadata": {},
   "outputs": [
    {
     "name": "stdout",
     "output_type": "stream",
     "text": [
      "CPU times: user 23min 13s, sys: 15.6 s, total: 23min 29s\n",
      "Wall time: 21min 30s\n"
     ]
    },
    {
     "data": {
      "text/plain": [
       "(-3.0, 3.0)"
      ]
     },
     "execution_count": 7,
     "metadata": {},
     "output_type": "execute_result"
    },
    {
     "data": {
      "image/png": "[encoded data removed]",
      "text/plain": [
       "<Figure size 432x288 with 1 Axes>"
      ]
     },
     "metadata": {
      "needs_background": "light"
     },
     "output_type": "display_data"
    }
   ],
   "source": [
    "%%time\n",
    "out = fs(x0, dtm, dom)\n",
    "ys = jnp.dot(E0, out.mean.T).T\n",
    "plt.plot(ts, ys, marker=\".\")\n",
    "plt.ylim(*ylims)"
   ]
  },
  {
   "cell_type": "markdown",
   "id": "482faae9",
   "metadata": {},
   "source": [
    "Make GIF"
   ]
  },
  {
   "cell_type": "code",
   "execution_count": null,
   "id": "43e4b18c",
   "metadata": {},
   "outputs": [
    {
     "data": {
      "application/vnd.jupyter.widget-view+json": {
       "model_id": "f04b985e450340fabdc7a6acbac27183",
       "version_major": 2,
       "version_minor": 0
      },
      "text/plain": [
       "  0%|          | 0/1999 [00:00<?, ?it/s]"
      ]
     },
     "metadata": {},
     "output_type": "display_data"
    }
   ],
   "source": [
    "from celluloid import Camera\n",
    "fig = plt.figure()\n",
    "camera = Camera(fig)\n",
    "\n",
    "dom = lom(om, traj[1:])\n",
    "out = fs(x0, dtm, dom)\n",
    "ys = jnp.dot(E0, out.mean.T).T\n",
    "plt.plot(ts_true, ys_true, \"--\", color=\"black\")\n",
    "plt.plot(ts, ys, color=\"C0\")\n",
    "plt.ylim(*ylims)\n",
    "plt.text(0, ylims[1]-0.5, f\"Iteration 0\")\n",
    "camera.snap()\n",
    "\n",
    "for i in trange(1, 2_000):\n",
    "    dom = lom(om, out.mean[1:])\n",
    "    out = fs(x0, dtm, dom)\n",
    "    ys = jnp.dot(E0, out.mean.T).T\n",
    "    plt.plot(ts_true, ys_true, \"--\", color=\"black\")\n",
    "    plt.plot(ts, ys, color=\"C0\")\n",
    "    plt.ylim(*ylims)\n",
    "    plt.text(0, ylims[1]-0.5, f\"Iteration {i}\")\n",
    "    camera.snap()\n",
    "\n",
    "animation = camera.animate()"
   ]
  },
  {
   "cell_type": "code",
   "execution_count": null,
   "id": "41d33f02",
   "metadata": {},
   "outputs": [],
   "source": [
    "animation.save('animation.gif')"
   ]
  },
  {
   "cell_type": "code",
   "execution_count": null,
   "id": "4d2713c1",
   "metadata": {},
   "outputs": [],
   "source": []
  }
 ],
 "metadata": {
  "kernelspec": {
   "display_name": "Python 3 (ipykernel)",
   "language": "python",
   "name": "python3"
  },
  "language_info": {
   "codemirror_mode": {
    "name": "ipython",
    "version": 3
   },
   "file_extension": ".py",
   "mimetype": "text/x-python",
   "name": "python",
   "nbconvert_exporter": "python",
   "pygments_lexer": "ipython3",
   "version": "3.8.13"
  }
 },
 "nbformat": 4,
 "nbformat_minor": 5
}
