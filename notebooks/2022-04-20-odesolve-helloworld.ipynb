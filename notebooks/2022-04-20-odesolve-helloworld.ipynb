{
 "cells": [
  {
   "cell_type": "markdown",
   "metadata": {
    "pycharm": {
     "name": "#%% md\n"
    }
   },
   "source": [
    "### Imports"
   ]
  },
  {
   "cell_type": "code",
   "execution_count": 1,
   "metadata": {
    "pycharm": {
     "name": "#%%\n"
    }
   },
   "outputs": [],
   "source": [
    "from jax.config import config\n",
    "\n",
    "#config.update(\"jax_debug_nans\", False)\n",
    "#config.update(\"jax_enable_x64\", False)\n",
    "#config.update(\"jax_platform_name\", \"gpu\")\n",
    "\n",
    "import parsmooth\n",
    "from parsmooth.sequential import ieks as seq_ieks\n",
    "from parsmooth.parallel import ekf\n",
    "from parsmooth.utils import MVNormalParameters"
   ]
  },
  {
   "cell_type": "code",
   "execution_count": 2,
   "metadata": {
    "pycharm": {
     "name": "#%%\n"
    }
   },
   "outputs": [],
   "source": [
    "from functools import partial\n",
    "\n",
    "import jax\n",
    "import jax.numpy as jnp\n",
    "import matplotlib.pyplot as plt\n",
    "\n",
    "import tornadox"
   ]
  },
  {
   "cell_type": "markdown",
   "metadata": {
    "pycharm": {
     "name": "#%% md\n"
    }
   },
   "source": [
    "## Initial Value Problem"
   ]
  },
  {
   "cell_type": "code",
   "execution_count": 3,
   "metadata": {
    "pycharm": {
     "name": "#%%\n"
    }
   },
   "outputs": [
    {
     "name": "stderr",
     "output_type": "stream",
     "text": [
      "WARNING:absl:No GPU/TPU found, falling back to CPU. (Set TF_CPP_MIN_LOG_LEVEL=0 and rerun for more info.)\n"
     ]
    }
   ],
   "source": [
    "@jax.jit\n",
    "def f(y, t):\n",
    "    return 1. * y * (1 - y)\n",
    "\n",
    "y0 = jnp.array([0.01])\n",
    "t0, tmax = 0.0, 10.0"
   ]
  },
  {
   "cell_type": "code",
   "execution_count": 4,
   "metadata": {
    "pycharm": {
     "name": "#%%\n"
    }
   },
   "outputs": [],
   "source": [
    "@jax.jit\n",
    "def f(Y, t):\n",
    "    mu = 1e2\n",
    "    return jnp.array([Y[1], mu * ((1.0 - Y[0] ** 2) * Y[1] - Y[0])])\n",
    "\n",
    "y0 = jnp.array([2.0, 0.0])\n",
    "t0, tmax = 0.0, 6.3"
   ]
  },
  {
   "cell_type": "code",
   "execution_count": null,
   "metadata": {
    "pycharm": {
     "name": "#%%\n"
    }
   },
   "outputs": [],
   "source": []
  },
  {
   "cell_type": "code",
   "execution_count": 5,
   "metadata": {
    "pycharm": {
     "name": "#%%timeit\n"
    }
   },
   "outputs": [],
   "source": [
    "#z = f(y0, None)\n",
    "#z.block_until_ready()"
   ]
  },
  {
   "cell_type": "markdown",
   "metadata": {
    "pycharm": {
     "name": "#%% md\n"
    }
   },
   "source": [
    "## Definig the ODE Solver"
   ]
  },
  {
   "cell_type": "code",
   "execution_count": 6,
   "metadata": {
    "pycharm": {
     "name": "#%%\n"
    }
   },
   "outputs": [],
   "source": [
    "# Fixed-step solver with step-size\n",
    "dt = 1e-4\n",
    "\n",
    "# Solver order\n",
    "order = 3"
   ]
  },
  {
   "cell_type": "markdown",
   "metadata": {
    "pycharm": {
     "name": "#%% md\n"
    }
   },
   "source": [
    "### 1. Prior\n",
    "Build the transition matrices (using `tornadox` because I'm lazy)"
   ]
  },
  {
   "cell_type": "code",
   "execution_count": 7,
   "metadata": {
    "pycharm": {
     "name": "#%%\n"
    }
   },
   "outputs": [],
   "source": [
    "_d, _q = len(y0), order\n",
    "diffusion = 0.1\n",
    "\n",
    "iwp = tornadox.iwp.IntegratedWienerTransition(num_derivatives=_q, wiener_process_dimension=_d)\n",
    "P0 = iwp.projection_matrix(0)\n",
    "P1 = iwp.projection_matrix(1)\n",
    "A, QS = iwp.non_preconditioned_discretize(dt)\n",
    "Q = diffusion * (QS @ QS.T)\n",
    "cpu_Q = jax.device_put(Q, jax.devices(\"cpu\")[0])\n",
    "\n",
    "@jax.jit\n",
    "def tf(x, A):\n",
    "    return A @ x\n",
    "\n",
    "transition_function = jax.jit(partial(tf, A=A))\n",
    "cpu_transition_function = jax.jit(partial(tf, A=jax.device_put(A, jax.devices(\"cpu\")[0])))"
   ]
  },
  {
   "cell_type": "markdown",
   "metadata": {
    "pycharm": {
     "name": "#%% md\n"
    }
   },
   "source": [
    "### 2. Observation Model"
   ]
  },
  {
   "cell_type": "code",
   "execution_count": 8,
   "metadata": {
    "pycharm": {
     "name": "#%%\n"
    },
    "scrolled": false
   },
   "outputs": [],
   "source": [
    "def of(x, f, P0, P1):\n",
    "    return P1@x - f(P0@x, None)\n",
    "\n",
    "observation_function = jax.jit(partial(of, f=f, P0=P0, P1=P1))"
   ]
  },
  {
   "cell_type": "code",
   "execution_count": 9,
   "metadata": {
    "pycharm": {
     "name": "#%%\n"
    }
   },
   "outputs": [],
   "source": [
    "R = 0 * jnp.eye(1)\n",
    "cpu_R = jax.device_put(R, jax.devices(\"cpu\")[0])\n"
   ]
  },
  {
   "cell_type": "markdown",
   "metadata": {
    "pycharm": {
     "name": "#%% md\n"
    }
   },
   "source": [
    "### 3. Data\n",
    "We want the ODE to be satisfied == we want the difference to be zero == zero data:"
   ]
  },
  {
   "cell_type": "code",
   "execution_count": 10,
   "metadata": {
    "pycharm": {
     "name": "#%%\n"
    }
   },
   "outputs": [
    {
     "name": "stdout",
     "output_type": "stream",
     "text": [
      "(63000, 2)\n"
     ]
    }
   ],
   "source": [
    "ts = jnp.arange(t0, tmax, dt)\n",
    "data = jnp.zeros((len(ts), _d))\n",
    "data.device_buffer.device()\n",
    "cpu_data = jax.device_put(data, jax.devices(\"cpu\")[0])\n",
    "print(data.shape)"
   ]
  },
  {
   "cell_type": "markdown",
   "metadata": {
    "pycharm": {
     "name": "#%% md\n"
    }
   },
   "source": [
    "## 4. Initial state\n",
    "Again computed with `tornadox`:"
   ]
  },
  {
   "cell_type": "code",
   "execution_count": 11,
   "metadata": {
    "pycharm": {
     "name": "#%%\n"
    }
   },
   "outputs": [],
   "source": [
    "m0, P0 = tornadox.init.TaylorMode()(f=lambda t, x: f(x, t), df=None, y0=y0, t0=0, num_derivatives=order)\n",
    "m0, P0 = jnp.concatenate(m0.T), jnp.kron(jnp.eye(_d), P0)\n",
    "cpu_m0, cpu_P0 = map(lambda z: jax.device_put(z, jax.devices(\"cpu\")[0]), [m0, P0])\n",
    "initial_guess = MVNormalParameters(m0, P0)\n",
    "cpu_initial_guess = MVNormalParameters(cpu_m0, cpu_P0)"
   ]
  },
  {
   "cell_type": "code",
   "execution_count": 12,
   "metadata": {
    "pycharm": {
     "name": "#%%\n"
    }
   },
   "outputs": [
    {
     "data": {
      "text/plain": [
       "DeviceArray([0., 0.], dtype=float64)"
      ]
     },
     "execution_count": 12,
     "metadata": {},
     "output_type": "execute_result"
    }
   ],
   "source": [
    "observation_function(m0)"
   ]
  },
  {
   "cell_type": "markdown",
   "metadata": {
    "pycharm": {
     "name": "#%% md\n"
    }
   },
   "source": [
    "\n",
    "## Solve the ODE with `parsmooth`"
   ]
  },
  {
   "cell_type": "markdown",
   "metadata": {
    "pycharm": {
     "name": "#%% md\n"
    }
   },
   "source": []
  },
  {
   "cell_type": "code",
   "execution_count": 13,
   "metadata": {
    "pycharm": {
     "name": "#%%\n"
    }
   },
   "outputs": [],
   "source": [
    "init_lin = jnp.concatenate([0.5 * jnp.ones((data.shape[0] + 1, _d)), jnp.zeros((data.shape[0] + 1, _d*order))], 1)\n",
    "init_lin = jnp.zeros((data.shape[0] + 1, _d*(order+1)))\n",
    "init_lin = MVNormalParameters(init_lin, jnp.zeros((data.shape[0] + 1, _d*(order + 1), _d*(order + 1))))"
   ]
  },
  {
   "cell_type": "markdown",
   "metadata": {
    "pycharm": {
     "name": "#%% md\n"
    }
   },
   "source": [
    "### Plot"
   ]
  },
  {
   "cell_type": "code",
   "execution_count": 14,
   "metadata": {
    "pycharm": {
     "name": "#%%\n"
    }
   },
   "outputs": [],
   "source": [
    "def plot_results(times, states, ax):\n",
    "    means = states.mean[1:, 0]\n",
    "    stds = states.cov[1:, 0, 0]\n",
    "    ax.plot(times, means, marker='o', markersize=1)\n",
    "    ax.fill_between(times, means - 3 * stds, means + 3 * stds, alpha=0.2)\n",
    "    #ax.set_ylim(-0.2, 1.2)\n",
    "    return ax"
   ]
  },
  {
   "cell_type": "code",
   "execution_count": 15,
   "metadata": {
    "pycharm": {
     "name": "#%%\n"
    },
    "scrolled": false
   },
   "outputs": [
    {
     "data": {
      "text/plain": [
       "<AxesSubplot:>"
      ]
     },
     "execution_count": 15,
     "metadata": {},
     "output_type": "execute_result"
    },
    {
     "data": {
      "image/png": "[encoded data removed]",
      "text/plain": [
       "<Figure size 432x288 with 1 Axes>"
      ]
     },
     "metadata": {
      "needs_background": "light"
     },
     "output_type": "display_data"
    }
   ],
   "source": [
    "# Sequential EKF:\n",
    "cpu_args = (cpu_initial_guess, cpu_data, cpu_transition_function, cpu_Q, observation_function, cpu_R, None)\n",
    "_, filtered = parsmooth.sequential.ekf(*cpu_args)\n",
    "fig, axes = plt.subplots(1)\n",
    "plot_results(ts, filtered, ax=axes)"
   ]
  },
  {
   "cell_type": "code",
   "execution_count": 16,
   "metadata": {
    "pycharm": {
     "name": "#%%\n"
    }
   },
   "outputs": [
    {
     "data": {
      "text/plain": [
       "<AxesSubplot:>"
      ]
     },
     "execution_count": 16,
     "metadata": {},
     "output_type": "execute_result"
    },
    {
     "data": {
      "image/png": "[encoded data removed]",
      "text/plain": [
       "<Figure size 432x288 with 1 Axes>"
      ]
     },
     "metadata": {
      "needs_background": "light"
     },
     "output_type": "display_data"
    }
   ],
   "source": [
    "# Parallel IEKS:\n",
    "args = (initial_guess, data, transition_function, Q, observation_function, R, filtered)\n",
    "\n",
    "ieks_gpu = jax.jit(parsmooth.parallel.ieks, static_argnums=(2, 4, 7), backend=\"gpu\")\n",
    "ifiltered = ieks_gpu(*args, n_iter=10)\n",
    "\n",
    "fig, axes = plt.subplots(1)\n",
    "plot_results(ts, ifiltered, ax=axes)"
   ]
  },
  {
   "cell_type": "code",
   "execution_count": 17,
   "metadata": {
    "pycharm": {
     "name": "#%%\n"
    }
   },
   "outputs": [
    {
     "ename": "Exception",
     "evalue": "",
     "output_type": "error",
     "traceback": [
      "\u001b[0;31m---------------------------------------------------------------------------\u001b[0m",
      "\u001b[0;31mException\u001b[0m                                 Traceback (most recent call last)",
      "Input \u001b[0;32mIn [17]\u001b[0m, in \u001b[0;36m<cell line: 1>\u001b[0;34m()\u001b[0m\n\u001b[0;32m----> 1\u001b[0m \u001b[38;5;28;01mraise\u001b[39;00m \u001b[38;5;167;01mException\u001b[39;00m\n",
      "\u001b[0;31mException\u001b[0m: "
     ]
    }
   ],
   "source": [
    "raise Exception"
   ]
  },
  {
   "cell_type": "markdown",
   "metadata": {
    "pycharm": {
     "name": "#%% md\n"
    }
   },
   "source": [
    "# Some benchmarks"
   ]
  },
  {
   "cell_type": "code",
   "execution_count": null,
   "metadata": {
    "pycharm": {
     "name": "#%%\n"
    }
   },
   "outputs": [],
   "source": [
    "ekf_cpu = jax.jit(parsmooth.sequential.ekf, static_argnums=(2, 4, 7), backend=\"cpu\")\n",
    "ekf_gpu = jax.jit(parsmooth.sequential.ekf, static_argnums=(2, 4, 7), backend=\"gpu\")\n",
    "\n",
    "parekf_cpu = jax.jit(parsmooth.parallel.ekf, static_argnums=(2, 4, 7), backend=\"cpu\")\n",
    "parekf_gpu = jax.jit(parsmooth.parallel.ekf, static_argnums=(2, 4, 7), backend=\"gpu\")\n",
    "\n",
    "ieks_cpu = jax.jit(parsmooth.parallel.ieks, static_argnums=(2, 4, 7), backend=\"cpu\")\n",
    "ieks_gpu = jax.jit(parsmooth.parallel.ieks, static_argnums=(2, 4, 7), backend=\"gpu\")"
   ]
  },
  {
   "cell_type": "markdown",
   "metadata": {
    "pycharm": {
     "name": "#%% md\n"
    }
   },
   "source": [
    "The current state-of-the-art: Sequential extedended Kalman filtering"
   ]
  },
  {
   "cell_type": "code",
   "execution_count": null,
   "metadata": {
    "pycharm": {
     "name": "#%%\n"
    }
   },
   "outputs": [],
   "source": [
    "%%timeit\n",
    "filtered = ieks_cpu(*cpu_args)\n",
    "filtered.mean.block_until_ready()"
   ]
  },
  {
   "cell_type": "markdown",
   "metadata": {
    "pycharm": {
     "name": "#%% md\n"
    }
   },
   "source": [
    "\"Just using a GPU\" slows it down:"
   ]
  },
  {
   "cell_type": "markdown",
   "metadata": {
    "pycharm": {
     "name": "#%% md\n"
    }
   },
   "source": [
    "Parallel extended Kalman filter with a fixed linearization:\n",
    "(note that without a good initialization this does not provide a meaningful ODE solution!)"
   ]
  },
  {
   "cell_type": "code",
   "execution_count": null,
   "metadata": {
    "pycharm": {
     "name": "#%%\n"
    }
   },
   "outputs": [],
   "source": [
    "%%timeit\n",
    "filtered = ieks_gpu(*args)\n",
    "filtered.mean.block_until_ready()"
   ]
  },
  {
   "cell_type": "code",
   "execution_count": null,
   "metadata": {
    "pycharm": {
     "name": "#%%\n"
    }
   },
   "outputs": [],
   "source": []
  },
  {
   "cell_type": "code",
   "execution_count": null,
   "metadata": {
    "pycharm": {
     "name": "#%%\n"
    }
   },
   "outputs": [],
   "source": []
  }
 ],
 "metadata": {
  "kernelspec": {
   "display_name": "Python 3 (ipykernel)",
   "language": "python",
   "name": "python3"
  },
  "language_info": {
   "codemirror_mode": {
    "name": "ipython",
    "version": 3
   },
   "file_extension": ".py",
   "mimetype": "text/x-python",
   "name": "python",
   "nbconvert_exporter": "python",
   "pygments_lexer": "ipython3",
   "version": "3.8.13"
  }
 },
 "nbformat": 4,
 "nbformat_minor": 4
}
