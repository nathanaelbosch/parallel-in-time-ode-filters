{
 "cells": [
  {
   "cell_type": "code",
   "execution_count": 1,
   "id": "80243a9f",
   "metadata": {},
   "outputs": [],
   "source": [
    "%load_ext autoreload\n",
    "%autoreload 2"
   ]
  },
  {
   "cell_type": "code",
   "execution_count": 2,
   "id": "8b5168bf",
   "metadata": {},
   "outputs": [],
   "source": [
    "import jax\n",
    "#jax.config.update('jax_platform_name', 'cpu')\n",
    "jax.config.update('jax_enable_x64', True)\n",
    "import jax.numpy as jnp\n",
    "import matplotlib.pyplot as plt\n",
    "import tornadox\n",
    "\n",
    "from pof.solve import get_solver_iterator"
   ]
  },
  {
   "cell_type": "code",
   "execution_count": 3,
   "id": "12328aac",
   "metadata": {},
   "outputs": [
    {
     "data": {
      "text/plain": [
       "GpuDevice(id=0, process_index=0)"
      ]
     },
     "execution_count": 3,
     "metadata": {},
     "output_type": "execute_result"
    }
   ],
   "source": [
    "ivp = tornadox.ivp.vanderpol_julia(stiffness_constant=1e0, tmax=128)\n",
    "ivp.y0.device()"
   ]
  },
  {
   "cell_type": "code",
   "execution_count": 4,
   "id": "d6cf5b52",
   "metadata": {},
   "outputs": [],
   "source": [
    "dt = 1e-2\n",
    "order = 3"
   ]
  },
  {
   "cell_type": "code",
   "execution_count": 5,
   "id": "4aea9fb7",
   "metadata": {},
   "outputs": [
    {
     "data": {
      "text/plain": [
       "[<matplotlib.lines.Line2D at 0x7fe4bc436730>,\n",
       " <matplotlib.lines.Line2D at 0x7fe4bc4362b0>]"
      ]
     },
     "execution_count": 5,
     "metadata": {},
     "output_type": "execute_result"
    },
    {
     "data": {
      "image/png": "[encoded data removed]",
      "text/plain": [
       "<Figure size 432x288 with 1 Axes>"
      ]
     },
     "metadata": {
      "needs_background": "light"
     },
     "output_type": "display_data"
    }
   ],
   "source": [
    "init_state, refine, project = get_solver_iterator(ivp, order=order, dt=dt, parallel=False)\n",
    "plt.plot(project(init_state))"
   ]
  },
  {
   "cell_type": "code",
   "execution_count": 6,
   "id": "e4e7d513",
   "metadata": {},
   "outputs": [],
   "source": [
    "refine_jit_gpu = jax.jit(refine, backend=\"gpu\")\n",
    "refine_jit_cpu = jax.jit(refine, backend=\"cpu\")"
   ]
  },
  {
   "cell_type": "code",
   "execution_count": 7,
   "id": "11b8cd55",
   "metadata": {},
   "outputs": [
    {
     "data": {
      "text/plain": [
       "[<matplotlib.lines.Line2D at 0x7fe4bc4473a0>,\n",
       " <matplotlib.lines.Line2D at 0x7fe4bc49cd90>]"
      ]
     },
     "execution_count": 7,
     "metadata": {},
     "output_type": "execute_result"
    },
    {
     "data": {
      "image/png": "[encoded data removed]",
      "text/plain": [
       "<Figure size 432x288 with 1 Axes>"
      ]
     },
     "metadata": {
      "needs_background": "light"
     },
     "output_type": "display_data"
    }
   ],
   "source": [
    "state = init_state\n",
    "for _ in range(40):\n",
    "    state = refine_jit_cpu(state)\n",
    "plt.plot(project(state))"
   ]
  },
  {
   "cell_type": "markdown",
   "id": "74ae050b",
   "metadata": {},
   "source": [
    "# Benchmarks"
   ]
  },
  {
   "cell_type": "code",
   "execution_count": 8,
   "id": "e8538c79",
   "metadata": {},
   "outputs": [],
   "source": [
    "#%%timeit\n",
    "# unjitted GPU\n",
    "#refine(state).mean.block_until_ready()"
   ]
  },
  {
   "cell_type": "code",
   "execution_count": 9,
   "id": "c025f8e8",
   "metadata": {},
   "outputs": [],
   "source": [
    "# %%timeit\n",
    "# refine_jit_gpu(state).mean.block_until_ready()"
   ]
  },
  {
   "cell_type": "code",
   "execution_count": 10,
   "id": "5ae6ce34",
   "metadata": {},
   "outputs": [
    {
     "name": "stdout",
     "output_type": "stream",
     "text": [
      "468 ms ± 4.12 ms per loop (mean ± std. dev. of 7 runs, 1 loop each)\n"
     ]
    }
   ],
   "source": [
    "%%timeit\n",
    "refine_jit_cpu(state).mean.block_until_ready()\n",
    "# note that this number might even include moving data to the cpu"
   ]
  },
  {
   "cell_type": "code",
   "execution_count": 11,
   "id": "8eef73a2",
   "metadata": {},
   "outputs": [],
   "source": [
    "_, refine_par, _ = get_solver_iterator(ivp, order=order, dt=dt, parallel=True)"
   ]
  },
  {
   "cell_type": "code",
   "execution_count": 12,
   "id": "b6890c28",
   "metadata": {},
   "outputs": [],
   "source": [
    "#%%timeit\n",
    "#refine_par(state).mean.block_until_ready()"
   ]
  },
  {
   "cell_type": "code",
   "execution_count": 13,
   "id": "5c8226ea",
   "metadata": {},
   "outputs": [],
   "source": [
    "refine_par_jit_gpu = jax.jit(refine_par, backend=\"gpu\")\n",
    "#refine_par_jit_cpu = jax.jit(refine_par, backend=\"cpu\")\n",
    "refine_par_jit_gpu(state).mean.block_until_ready();"
   ]
  },
  {
   "cell_type": "code",
   "execution_count": 14,
   "id": "f966639b",
   "metadata": {},
   "outputs": [
    {
     "name": "stdout",
     "output_type": "stream",
     "text": [
      "677 ms ± 2.15 ms per loop (mean ± std. dev. of 7 runs, 1 loop each)\n"
     ]
    }
   ],
   "source": [
    "%%timeit\n",
    "refine_par_jit_gpu(state).mean.block_until_ready()"
   ]
  },
  {
   "cell_type": "code",
   "execution_count": 15,
   "id": "48564d0f",
   "metadata": {},
   "outputs": [],
   "source": [
    "#%%timeit\n",
    "#refine_par_jit_cpu(state).mean.block_until_ready()\n",
    "# this one sucks"
   ]
  },
  {
   "cell_type": "code",
   "execution_count": null,
   "id": "df99b7e8",
   "metadata": {},
   "outputs": [],
   "source": []
  },
  {
   "cell_type": "code",
   "execution_count": null,
   "id": "7df73a90",
   "metadata": {},
   "outputs": [],
   "source": []
  },
  {
   "cell_type": "code",
   "execution_count": null,
   "id": "9e86066b",
   "metadata": {},
   "outputs": [],
   "source": []
  },
  {
   "cell_type": "code",
   "execution_count": null,
   "id": "6f902c20",
   "metadata": {},
   "outputs": [],
   "source": []
  }
 ],
 "metadata": {
  "kernelspec": {
   "display_name": "Python 3",
   "language": "python",
   "name": "python3"
  },
  "language_info": {
   "codemirror_mode": {
    "name": "ipython",
    "version": 3
   },
   "file_extension": ".py",
   "mimetype": "text/x-python",
   "name": "python",
   "nbconvert_exporter": "python",
   "pygments_lexer": "ipython3",
   "version": "3.8.3"
  }
 },
 "nbformat": 4,
 "nbformat_minor": 5
}
