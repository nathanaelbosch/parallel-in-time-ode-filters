{
 "cells": [
  {
   "cell_type": "code",
   "execution_count": 1,
   "id": "80243a9f",
   "metadata": {},
   "outputs": [],
   "source": [
    "%load_ext autoreload\n",
    "%autoreload 2"
   ]
  },
  {
   "cell_type": "code",
   "execution_count": 2,
   "id": "8b5168bf",
   "metadata": {},
   "outputs": [],
   "source": [
    "import jax\n",
    "#jax.config.update('jax_platform_name', 'cpu')\n",
    "jax.config.update('jax_enable_x64', True)\n",
    "#jax.config.update('jax_disable_jit', True)\n",
    "#jax.config.update('jax_debug_nans', True)\n",
    "\n",
    "import jax.numpy as jnp\n",
    "import matplotlib.pyplot as plt\n",
    "import tornadox\n",
    "\n",
    "from pof.solve import get_solver_iterator"
   ]
  },
  {
   "cell_type": "code",
   "execution_count": 13,
   "id": "12328aac",
   "metadata": {},
   "outputs": [
    {
     "data": {
      "text/plain": [
       "GpuDevice(id=0, process_index=0)"
      ]
     },
     "execution_count": 13,
     "metadata": {},
     "output_type": "execute_result"
    }
   ],
   "source": [
    "ivp = tornadox.ivp.vanderpol_julia(stiffness_constant=1e0, tmax=512)\n",
    "ivp.y0.device()"
   ]
  },
  {
   "cell_type": "code",
   "execution_count": 14,
   "id": "d6cf5b52",
   "metadata": {},
   "outputs": [],
   "source": [
    "dt = 1e-2\n",
    "order = 3"
   ]
  },
  {
   "cell_type": "code",
   "execution_count": 15,
   "id": "4aea9fb7",
   "metadata": {},
   "outputs": [
    {
     "data": {
      "text/plain": [
       "[<matplotlib.lines.Line2D at 0x7fbbb5e8cdf0>,\n",
       " <matplotlib.lines.Line2D at 0x7fbbb617f340>]"
      ]
     },
     "execution_count": 15,
     "metadata": {},
     "output_type": "execute_result"
    },
    {
     "data": {
      "image/png": "[encoded data removed]",
      "text/plain": [
       "<Figure size 432x288 with 1 Axes>"
      ]
     },
     "metadata": {
      "needs_background": "light"
     },
     "output_type": "display_data"
    }
   ],
   "source": [
    "init_state, refine, project = get_solver_iterator(ivp, order=order, dt=dt, parallel=False)\n",
    "plt.plot(project(init_state))"
   ]
  },
  {
   "cell_type": "code",
   "execution_count": 16,
   "id": "e4e7d513",
   "metadata": {},
   "outputs": [],
   "source": [
    "refine_jit_cpu = jax.jit(refine, backend=\"cpu\")"
   ]
  },
  {
   "cell_type": "code",
   "execution_count": 17,
   "id": "11b8cd55",
   "metadata": {
    "scrolled": false
   },
   "outputs": [
    {
     "data": {
      "text/plain": [
       "[<matplotlib.lines.Line2D at 0x7fbbb4305ca0>,\n",
       " <matplotlib.lines.Line2D at 0x7fbbb456eca0>]"
      ]
     },
     "execution_count": 17,
     "metadata": {},
     "output_type": "execute_result"
    },
    {
     "data": {
      "image/png": "[encoded data removed]",
      "text/plain": [
       "<Figure size 432x288 with 1 Axes>"
      ]
     },
     "metadata": {
      "needs_background": "light"
     },
     "output_type": "display_data"
    }
   ],
   "source": [
    "state = init_state\n",
    "for _ in range(1):\n",
    "    state = refine_jit_cpu(state)\n",
    "plt.plot(project(state))"
   ]
  },
  {
   "cell_type": "markdown",
   "id": "74ae050b",
   "metadata": {},
   "source": [
    "# Benchmarks"
   ]
  },
  {
   "cell_type": "markdown",
   "id": "f1051c9c",
   "metadata": {},
   "source": [
    "Sequential filter on CPU:"
   ]
  },
  {
   "cell_type": "code",
   "execution_count": 18,
   "id": "5ae6ce34",
   "metadata": {},
   "outputs": [
    {
     "name": "stdout",
     "output_type": "stream",
     "text": [
      "2.26 s ± 25 ms per loop (mean ± std. dev. of 7 runs, 1 loop each)\n"
     ]
    }
   ],
   "source": [
    "%%timeit\n",
    "refine_jit_cpu(state).mean.block_until_ready()\n",
    "# note that this number might even include moving data to the cpu"
   ]
  },
  {
   "cell_type": "markdown",
   "id": "36d7534e",
   "metadata": {},
   "source": [
    "Parallel filter on GPU: First create the GPU-jitted parallel filter function."
   ]
  },
  {
   "cell_type": "code",
   "execution_count": 19,
   "id": "8eef73a2",
   "metadata": {},
   "outputs": [],
   "source": [
    "# Create the parallel filter, and define the jitted version\n",
    "_, refine_par, _ = get_solver_iterator(ivp, order=order, dt=dt, parallel=True)\n",
    "refine_par_jit_gpu = jax.jit(refine_par, backend=\"gpu\") #"
   ]
  },
  {
   "cell_type": "markdown",
   "id": "8d19af29",
   "metadata": {},
   "source": [
    "Run it once to jit it:"
   ]
  },
  {
   "cell_type": "code",
   "execution_count": 20,
   "id": "ebcd2f7f",
   "metadata": {},
   "outputs": [
    {
     "name": "stdout",
     "output_type": "stream",
     "text": [
      "CPU times: user 13min 25s, sys: 5.53 s, total: 13min 31s\n",
      "Wall time: 12min 29s\n"
     ]
    },
    {
     "data": {
      "text/plain": [
       "DeviceArray([[ 1.20000000e+08,  0.00000000e+00, -2.00000000e+03, ...,\n",
       "              -4.00000000e+05,  6.00000000e+03, -1.60000000e+02],\n",
       "             [ 1.19991815e+08, -3.93215021e+03, -6.68059513e+03, ...,\n",
       "              -3.88178414e+05,  1.27543284e+04,  6.87421976e+04],\n",
       "             [ 1.19961890e+08, -7.70079080e+03,  5.69670501e+02, ...,\n",
       "              -3.76790220e+05,  3.07764824e+03,  8.50532127e+04],\n",
       "             ...,\n",
       "             [-5.95796690e-17, -3.67939643e-19, -8.46707090e-22, ...,\n",
       "              -1.69340746e-19,  9.92992997e-22,  1.83943740e-23],\n",
       "             [-6.06860181e-17, -3.69623059e-19, -8.36673314e-22, ...,\n",
       "              -1.67336332e-19,  1.01143735e-21,  1.84888451e-23],\n",
       "             [-6.17973871e-17, -3.71286246e-19, -8.26507131e-22, ...,\n",
       "              -1.65294956e-19,  1.02994197e-21,  1.85098439e-23]],            dtype=float64)"
      ]
     },
     "execution_count": 20,
     "metadata": {},
     "output_type": "execute_result"
    }
   ],
   "source": [
    "%%time\n",
    "refine_par_jit_gpu(state).mean.block_until_ready(); # run once to jit"
   ]
  },
  {
   "cell_type": "markdown",
   "id": "93aaff9f",
   "metadata": {},
   "source": [
    "Actual benchmark:"
   ]
  },
  {
   "cell_type": "code",
   "execution_count": 21,
   "id": "f966639b",
   "metadata": {},
   "outputs": [
    {
     "name": "stdout",
     "output_type": "stream",
     "text": [
      "668 ms ± 2.33 ms per loop (mean ± std. dev. of 7 runs, 1 loop each)\n"
     ]
    }
   ],
   "source": [
    "%%timeit\n",
    "refine_par_jit_gpu(state).mean.block_until_ready() #benchmark"
   ]
  },
  {
   "cell_type": "code",
   "execution_count": null,
   "id": "df99b7e8",
   "metadata": {},
   "outputs": [],
   "source": []
  },
  {
   "cell_type": "code",
   "execution_count": null,
   "id": "954bb1e3",
   "metadata": {},
   "outputs": [],
   "source": []
  },
  {
   "cell_type": "code",
   "execution_count": null,
   "id": "7df73a90",
   "metadata": {},
   "outputs": [],
   "source": []
  },
  {
   "cell_type": "code",
   "execution_count": null,
   "id": "9e86066b",
   "metadata": {},
   "outputs": [],
   "source": []
  },
  {
   "cell_type": "code",
   "execution_count": null,
   "id": "c2049ecb",
   "metadata": {},
   "outputs": [],
   "source": []
  }
 ],
 "metadata": {
  "kernelspec": {
   "display_name": "Python 3 (ipykernel)",
   "language": "python",
   "name": "python3"
  },
  "language_info": {
   "codemirror_mode": {
    "name": "ipython",
    "version": 3
   },
   "file_extension": ".py",
   "mimetype": "text/x-python",
   "name": "python",
   "nbconvert_exporter": "python",
   "pygments_lexer": "ipython3",
   "version": "3.8.13"
  }
 },
 "nbformat": 4,
 "nbformat_minor": 5
}
